{
 "cells": [
  {
   "cell_type": "markdown",
   "id": "bc4ddad6-2fac-4890-816d-240f663901b9",
   "metadata": {},
   "source": [
    "# Data Science Tools and Ecosystem"
   ]
  },
  {
   "cell_type": "markdown",
   "id": "1683ff50-9a00-465d-adf3-24387be53da8",
   "metadata": {},
   "source": [
    "In this notebook, Data Science Tools and Ecosystem are summarized."
   ]
  },
  {
   "cell_type": "markdown",
   "id": "64313048-f359-4c63-aa0e-bcdd5908cef6",
   "metadata": {},
   "source": [
    "Some of the popular languages that Data Scientists use are:"
   ]
  },
  {
   "cell_type": "markdown",
   "id": "36e85230-974e-451a-8e78-56749060a159",
   "metadata": {},
   "source": [
    "ordered list\n",
    "1. Pyhton\n",
    "2. SQL\n",
    "3. R"
   ]
  },
  {
   "cell_type": "markdown",
   "id": "879f5b39-9c5a-433e-99cc-11a31a274865",
   "metadata": {},
   "source": [
    "Some of the commonly used libraries used by Data Scientists include:"
   ]
  },
  {
   "cell_type": "markdown",
   "id": "53ebbcec-eaf8-4503-b25f-9864046be851",
   "metadata": {},
   "source": [
    "ordered list\n",
    "1. Pandas\n",
    "2. NumPy\n",
    "3. TensorFlow"
   ]
  },
  {
   "cell_type": "markdown",
   "id": "68677b5f-870a-413a-a99c-60e19dfb77e9",
   "metadata": {},
   "source": [
    "|Data Science Tools|\n",
    "|:------------------|\n",
    "| Keras |\n",
    "| Apache Spark |\n",
    "| Julia |\n"
   ]
  },
  {
   "cell_type": "markdown",
   "id": "3d7df54c-a979-44cd-8341-c8fed544131f",
   "metadata": {},
   "source": [
    "### Below are a few examples of evaluating arithmetic expressions in Python"
   ]
  },
  {
   "cell_type": "markdown",
   "id": "f796d418-ab0f-47e9-9eb2-ab4480bdfc9f",
   "metadata": {},
   "source": [
    "This a simple arithmetic expression to mutiply then add integers"
   ]
  },
  {
   "cell_type": "code",
   "execution_count": 3,
   "id": "1e915819-b0d6-4059-ba92-1306aaa2c7b6",
   "metadata": {},
   "outputs": [
    {
     "data": {
      "text/plain": [
       "17"
      ]
     },
     "execution_count": 3,
     "metadata": {},
     "output_type": "execute_result"
    }
   ],
   "source": [
    " (3*4)+5"
   ]
  },
  {
   "cell_type": "markdown",
   "id": "a5173d06-a126-40b6-9c60-b8c4bb7f3f91",
   "metadata": {},
   "source": [
    "This will convert 200 minutes to hours by diving by 60"
   ]
  },
  {
   "cell_type": "code",
   "execution_count": 6,
   "id": "22c1e1c6-a551-4780-9ac5-f8f3a71d811b",
   "metadata": {},
   "outputs": [
    {
     "data": {
      "text/plain": [
       "3.3333333333333335"
      ]
     },
     "execution_count": 6,
     "metadata": {},
     "output_type": "execute_result"
    }
   ],
   "source": [
    "(200/60)"
   ]
  },
  {
   "cell_type": "markdown",
   "id": "ab07485d-e463-4b83-83b6-3e77c83e5e42",
   "metadata": {},
   "source": [
    "**Objectives:**"
   ]
  },
  {
   "cell_type": "markdown",
   "id": "ea13c282-4d11-4af3-84b0-42f5d76be1b7",
   "metadata": {},
   "source": [
    "unordered list\n",
    "* Phyton\n",
    "* R\n",
    "* Java"
   ]
  },
  {
   "cell_type": "markdown",
   "id": "a78c636b-4d5d-4568-9c6f-208aa861d79d",
   "metadata": {},
   "source": [
    "## Author "
   ]
  },
  {
   "cell_type": "markdown",
   "id": "1089987e-58b2-40b0-956a-f07976009bf9",
   "metadata": {},
   "source": [
    "Nabil"
   ]
  },
  {
   "cell_type": "code",
   "execution_count": null,
   "id": "ca92fc0a-e672-4058-b9f3-c8d4d3403d9b",
   "metadata": {},
   "outputs": [],
   "source": []
  }
 ],
 "metadata": {
  "kernelspec": {
   "display_name": "Python 3 (ipykernel)",
   "language": "python",
   "name": "python3"
  },
  "language_info": {
   "codemirror_mode": {
    "name": "ipython",
    "version": 3
   },
   "file_extension": ".py",
   "mimetype": "text/x-python",
   "name": "python",
   "nbconvert_exporter": "python",
   "pygments_lexer": "ipython3",
   "version": "3.11.7"
  }
 },
 "nbformat": 4,
 "nbformat_minor": 5
}
